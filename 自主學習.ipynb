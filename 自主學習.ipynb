{
 "cells": [
  {
   "cell_type": "markdown",
   "id": "6a628493",
   "metadata": {},
   "source": [
    "# 自主學習 - 用神經網路實作手寫數字辨識 (203顏睿宏 217謝易澄)"
   ]
  },
  {
   "cell_type": "markdown",
   "id": "6dc1044c",
   "metadata": {},
   "source": [
    "# 1.引入必要函式庫 / 架構神經網路框架"
   ]
  },
  {
   "cell_type": "code",
   "execution_count": 8,
   "id": "6277d899",
   "metadata": {},
   "outputs": [
    {
     "name": "stdout",
     "output_type": "stream",
     "text": [
      "torch.Size([60000, 28, 28]) torch.Size([10000, 28, 28])\n"
     ]
    },
    {
     "data": {
      "text/plain": [
       "['0000000000000000000000000000',\n",
       " '0000000000000000000000000000',\n",
       " '0000000000000000000000000000',\n",
       " '0000000000000000000000000000',\n",
       " '0000000000000000000000000000',\n",
       " '0000000000001111111111110000',\n",
       " '0000000011111111111111110000',\n",
       " '0000000111111111111111100000',\n",
       " '0000000111111111110000000000',\n",
       " '0000000011111110110000000000',\n",
       " '0000000001111100000000000000',\n",
       " '0000000000011110000000000000',\n",
       " '0000000000011110000000000000',\n",
       " '0000000000001111110000000000',\n",
       " '0000000000000111111000000000',\n",
       " '0000000000000011111100000000',\n",
       " '0000000000000001111100000000',\n",
       " '0000000000000000011110000000',\n",
       " '0000000000000011111110000000',\n",
       " '0000000000001111111100000000',\n",
       " '0000000000111111111000000000',\n",
       " '0000000011111111110000000000',\n",
       " '0000001111111111000000000000',\n",
       " '0000111111111100000000000000',\n",
       " '0000111111110000000000000000',\n",
       " '0000000000000000000000000000',\n",
       " '0000000000000000000000000000',\n",
       " '0000000000000000000000000000']"
      ]
     },
     "execution_count": 8,
     "metadata": {},
     "output_type": "execute_result"
    }
   ],
   "source": [
    "import os \n",
    "import torch\n",
    "from torch import nn\n",
    "from torch.nn import functional as F\n",
    "from torch.utils.data import DataLoader,random_split\n",
    "from torchmetrics import Accuracy\n",
    "from torchvision import transforms\n",
    "from torchvision.datasets import MNIST\n",
    "\n",
    "BATCH_SIZE = 1024\n",
    "device = torch.device(\"cuda\" if torch.cuda.is_available() else \"cpu\")\n",
    "\"cuda\" if torch.cuda.is_available() else \"cpu\"\n",
    "\n",
    "train_ds = MNIST(\"C:/Users/User/Desktop/data\",train=True,download=True,transform=transforms.ToTensor())\n",
    "\n",
    "test_ds = MNIST(\"C:/Users/User/Desktop/data\",train=False,download=True,transform=transforms.ToTensor())\n",
    "\n",
    "print(train_ds.data.shape,test_ds.data.shape)\n",
    "\n",
    "data = train_ds.data[0].clone()\n",
    "data[data>0] = 1\n",
    "data = data.numpy()\n",
    "\n",
    "text_image = []\n",
    "for i in range(data.shape[0]):\n",
    "    text_image.append(\"\".join(data[i].astype(str)))\n",
    "\n",
    "text_image"
   ]
  },
  {
   "cell_type": "markdown",
   "id": "8ed47236",
   "metadata": {},
   "source": [
    "# 2.讀取訓練資料"
   ]
  },
  {
   "cell_type": "code",
   "execution_count": 9,
   "id": "5edbd059",
   "metadata": {},
   "outputs": [
    {
     "name": "stdout",
     "output_type": "stream",
     "text": [
      "torch.Size([60000, 28, 28]) torch.Size([10000, 28, 28])\n"
     ]
    },
    {
     "data": {
      "text/plain": [
       "['0000000000000000000000000000',\n",
       " '0000000000000000000000000000',\n",
       " '0000000000000000000000000000',\n",
       " '0000000000000000000000000000',\n",
       " '0000000000000000000000110000',\n",
       " '0000000000000000000001110000',\n",
       " '0000000000000000000011110000',\n",
       " '0000000000000000000011100000',\n",
       " '0000000000001110000111100000',\n",
       " '0000000000001110000111000000',\n",
       " '0000000000001110001111000000',\n",
       " '0000000000011110011111000000',\n",
       " '0000000000111100011100000000',\n",
       " '0000000001111000111100000000',\n",
       " '0000000111111111111000000000',\n",
       " '0000000111111111110000000000',\n",
       " '0000001111111111111100000000',\n",
       " '0000001110001111111000000000',\n",
       " '0000001100001111111000000000',\n",
       " '0000000000011110000000000000',\n",
       " '0000000000011110000000000000',\n",
       " '0000000000111100000000000000',\n",
       " '0000000000111000000000000000',\n",
       " '0000000000111000000000000000',\n",
       " '0000000000000000000000000000',\n",
       " '0000000000000000000000000000',\n",
       " '0000000000000000000000000000',\n",
       " '0000000000000000000000000000']"
      ]
     },
     "execution_count": 9,
     "metadata": {},
     "output_type": "execute_result"
    }
   ],
   "source": [
    "import os \n",
    "import torch\n",
    "from torch import nn\n",
    "from torch.nn import functional as F\n",
    "from torch.utils.data import DataLoader,random_split\n",
    "from torchmetrics import Accuracy\n",
    "from torchvision import transforms  \n",
    "from torchvision.datasets import MNIST\n",
    "\n",
    "BATCH_SIZE = 1024\n",
    "device = torch.device(\"cuda\" if torch.cuda.is_available() else \"cpu\")\n",
    "\"cuda\" if torch.cuda.is_available() else \"cpu\"\n",
    "\n",
    "transform = transforms.Compose([transforms.ToTensor(),transforms.Normalize((0.1307,),(0.3081,))])\n",
    "\n",
    "train_ds = MNIST(\"C:/Users/User/Desktop/data\",train=True,download=True,transform=transform)\n",
    "\n",
    "test_ds = MNIST(\"C:/Users/User/Desktop/data\",train=False,download=True,transform=transforms.ToTensor())\n",
    "\n",
    "print(train_ds.data.shape,test_ds.data.shape)\n",
    "\n",
    "data = train_ds.data[9].clone()\n",
    "data[data>0] = 1\n",
    "data = data.numpy()\n",
    "\n",
    "text_image = []\n",
    "for i in range(data.shape[0]):\n",
    "    text_image.append(\"\".join(data[i].astype(str)))\n",
    "\n",
    "text_image"
   ]
  },
  {
   "cell_type": "markdown",
   "id": "6c14b7e4",
   "metadata": {},
   "source": [
    "# -- 查看訓練資料 --"
   ]
  },
  {
   "cell_type": "code",
   "execution_count": 11,
   "id": "cd4c89f2",
   "metadata": {
    "scrolled": true
   },
   "outputs": [
    {
     "data": {
      "image/png": "[encoded data removed]",
      "text/plain": [
       "<Figure size 640x480 with 1 Axes>"
      ]
     },
     "metadata": {},
     "output_type": "display_data"
    }
   ],
   "source": [
    "import matplotlib.pyplot as plt\n",
    "\n",
    "x2 = train_ds.data[157]\n",
    "plt.imshow(x2.reshape(28,28),cmap = 'gray')\n",
    "\n",
    "plt.axis('off')\n",
    "\n",
    "plt.show()"
   ]
  },
  {
   "cell_type": "markdown",
   "id": "8e6c3e98",
   "metadata": {},
   "source": [
    "# -- 將資料轉為純黑白 --"
   ]
  },
  {
   "cell_type": "code",
   "execution_count": 15,
   "id": "74fec947",
   "metadata": {
    "scrolled": true
   },
   "outputs": [
    {
     "data": {
      "image/png": "[encoded data removed]",
      "text/plain": [
       "<Figure size 640x480 with 1 Axes>"
      ]
     },
     "metadata": {},
     "output_type": "display_data"
    }
   ],
   "source": [
    "data = test_ds.data[256].clone()\n",
    "data[data>0] = 1\n",
    "data = data.numpy()\n",
    "\n",
    "x2 = data\n",
    "plt.imshow(x2.reshape(28,28),cmap = 'gray')\n",
    "\n",
    "plt.axis('off')\n",
    "\n",
    "plt.show()"
   ]
  },
  {
   "cell_type": "markdown",
   "id": "1de31646",
   "metadata": {},
   "source": [
    "# 3.架構模型"
   ]
  },
  {
   "cell_type": "code",
   "execution_count": 16,
   "id": "9a63e8ae",
   "metadata": {},
   "outputs": [],
   "source": [
    "model = torch.nn.Sequential(\n",
    "torch.nn.Flatten(),\n",
    "torch.nn.Linear(28*28,256),\n",
    "nn.Dropout(0.2),\n",
    "torch.nn.Linear(256,10),\n",
    ").to(device)"
   ]
  },
  {
   "cell_type": "markdown",
   "id": "1c8f4a19",
   "metadata": {},
   "source": [
    "# -- 嘗試增加連結層並分析變化 --"
   ]
  },
  {
   "cell_type": "code",
   "execution_count": 180,
   "id": "f26d3960",
   "metadata": {},
   "outputs": [],
   "source": [
    "model = torch.nn.Sequential(\n",
    "torch.nn.Flatten(),\n",
    "torch.nn.Linear(28*28,1024),\n",
    "nn.Dropout(0.2),\n",
    "torch.nn.Linear(1024,256),\n",
    "nn.Dropout(0.2),\n",
    "torch.nn.Linear(256,64),\n",
    "nn.Dropout(0.2),\n",
    "torch.nn.Linear(64,10),\n",
    ").to(device)"
   ]
  },
  {
   "cell_type": "markdown",
   "id": "14d642eb",
   "metadata": {},
   "source": [
    "# 4.訓練資料並計算損失函數"
   ]
  },
  {
   "cell_type": "code",
   "execution_count": 17,
   "id": "ca412ab6",
   "metadata": {},
   "outputs": [],
   "source": [
    "epochs = 5\n",
    "lr = 0.1\n",
    "\n",
    "train_loader = DataLoader(train_ds , batch_size =60)#不准\n",
    "\n",
    "optimizer = torch.optim.Adadelta(model.parameters(),lr = lr)\n",
    "\n",
    "criterion = nn.CrossEntropyLoss()\n",
    "\n",
    "model.train()\n",
    "loss_list = []\n",
    "for epoch in range(1,epochs+1):\n",
    "    for batch_idx,(data,target) in enumerate(train_loader):\n",
    "        data,target = data.to(device),target.to(device)\n",
    "        \n",
    "        \n",
    "        optimizer.zero_grad()\n",
    "        output = model(data)\n",
    "        loss = criterion(output,target)\n",
    "        loss.backward()\n",
    "        optimizer.step()\n",
    "        \n",
    "        if batch_idx % 10 == 0:\n",
    "            loss_list.append(loss.item())\n",
    "            batch = batch_idx * len(data)\n",
    "            data_count = len(train_loader.dataset)\n",
    "            percentage = (100. * batch_idx/len(train_loader))"
   ]
  },
  {
   "cell_type": "markdown",
   "id": "01034e0b",
   "metadata": {},
   "source": [
    "# -- 更改epoch及batch_size並分析變化 --"
   ]
  },
  {
   "cell_type": "code",
   "execution_count": 706,
   "id": "77fbc597",
   "metadata": {},
   "outputs": [],
   "source": [
    "epochs = 5\n",
    "lr = 0.1\n",
    "\n",
    "train_loader = DataLoader(train_ds , batch_size = 600)#準\n",
    "\n",
    "optimizer = torch.optim.Adadelta(model.parameters(),lr = lr)\n",
    "\n",
    "criterion = nn.CrossEntropyLoss()\n",
    "\n",
    "model.train()\n",
    "\n",
    "loss_list = []\n",
    "for epoch in range(1,epochs+1):\n",
    "    for batch_idx,(data,target) in enumerate(train_loader):\n",
    "        data,target = data.to(device),target.to(device)\n",
    "        optimizer.zero_grad()\n",
    "        output = model(data)\n",
    "        loss = criterion(output,target)\n",
    "        loss.backward()\n",
    "        optimizer.step()\n",
    "        \n",
    "        if batch_idx % 10 == 0:\n",
    "            loss_list.append(loss.item())\n",
    "            batch = batch_idx * len(data)\n",
    "            data_count = len(train_loader.dataset)\n",
    "            percentage = (100. * batch_idx/len(train_loader))"
   ]
  },
  {
   "cell_type": "markdown",
   "id": "7214df64",
   "metadata": {},
   "source": [
    "# -- 輸出損失函數 --"
   ]
  },
  {
   "cell_type": "code",
   "execution_count": 18,
   "id": "caf35c7a",
   "metadata": {
    "scrolled": false
   },
   "outputs": [
    {
     "data": {
      "text/plain": [
       "[<matplotlib.lines.Line2D at 0x15399932d30>]"
      ]
     },
     "execution_count": 18,
     "metadata": {},
     "output_type": "execute_result"
    },
    {
     "data": {
      "image/png": "[encoded data removed]",
      "text/plain": [
       "<Figure size 640x480 with 1 Axes>"
      ]
     },
     "metadata": {},
     "output_type": "display_data"
    }
   ],
   "source": [
    "plt.plot(loss_list,'r')"
   ]
  },
  {
   "cell_type": "code",
   "execution_count": 19,
   "id": "931569c0",
   "metadata": {},
   "outputs": [],
   "source": [
    "test_loader = DataLoader(test_ds,shuffle = False,batch_size=BATCH_SIZE)\n",
    "\n",
    "model.eval()\n",
    "test_loss = 0\n",
    "correct = 0\n",
    "with torch.no_grad():\n",
    "    for data,target in test_loader:\n",
    "        data,target = data.to(device),target.to(device)\n",
    "        output = model(data)\n",
    "        \n",
    "        test_loss += criterion(output,target).item()\n",
    "        \n",
    "        pred = output.argmax(dim=1,keepdim=True)\n",
    "        \n",
    "        correct += pred.eq(target.view_as(pred)).sum().item()\n",
    "        \n",
    "test_loss /= len(test_loader.dataset)\n",
    "\n",
    "batch = batch_idx * len(data)\n",
    "data_count = len(test_loader.dataset)\n",
    "percentage = 100.*correct/data_count"
   ]
  },
  {
   "cell_type": "markdown",
   "id": "6abd6791",
   "metadata": {},
   "source": [
    "# 5.輸出各數預測機率"
   ]
  },
  {
   "cell_type": "code",
   "execution_count": 26,
   "id": "9f4dbf08",
   "metadata": {
    "scrolled": true
   },
   "outputs": [
    {
     "name": "stdout",
     "output_type": "stream",
     "text": [
      "['7', '2', '1', '0', '4', '1', '4', '9', '6', '9', '0', '6', '9', '0', '1', '8', '9', '7', '3', '4']\n"
     ]
    }
   ],
   "source": [
    "predictions = []\n",
    "with torch.no_grad():\n",
    "    for i in range(20):\n",
    "        data,target = test_ds[i][0],test_ds[i][1]\n",
    "        data = data.reshape(1,*data.shape).to(device)\n",
    "        output = torch.argmax(model(data),axis = -1)\n",
    "        predictions.append(str(output.item()))\n",
    "\n",
    "print(predictions)"
   ]
  },
  {
   "cell_type": "markdown",
   "id": "72a96a40",
   "metadata": {},
   "source": [
    "# -- 使輸出更可視化 --"
   ]
  },
  {
   "cell_type": "code",
   "execution_count": 32,
   "id": "fef35c8a",
   "metadata": {},
   "outputs": [
    {
     "name": "stdout",
     "output_type": "stream",
     "text": [
      "0~9預測機率 [[0. 0. 0. 0. 0. 0. 0. 0. 0. 0.]]\n",
      "0~9預測機率 7\n"
     ]
    }
   ],
   "source": [
    "import numpy as np\n",
    "\n",
    "i = 75\n",
    "data = test_ds[i][0]\n",
    "data = data.reshape(1,*data.shape).to(device)\n",
    "\n",
    "prediction = torch.softmax(model(data),dim=1)\n",
    "print('0~9預測機率',np.around(prediction.cpu().detach().numpy()))\n",
    "print('0~9預測機率',np.argmax(prediction.cpu().detach().numpy()))"
   ]
  },
  {
   "cell_type": "markdown",
   "id": "1de77006",
   "metadata": {},
   "source": [
    "# 6.帶入自製手寫資料"
   ]
  },
  {
   "cell_type": "markdown",
   "id": "224b1a6c",
   "metadata": {},
   "source": [
    "# -- 查看資料形式並模擬 --"
   ]
  },
  {
   "cell_type": "code",
   "execution_count": 33,
   "id": "1b6a7d4a",
   "metadata": {
    "scrolled": false
   },
   "outputs": [
    {
     "name": "stdout",
     "output_type": "stream",
     "text": [
      "data: tensor([[[0.0000, 0.0000, 0.0000, 0.0000, 0.0000, 0.0000, 0.0000, 0.0000,\n",
      "          0.0000, 0.0000, 0.0000, 0.0000, 0.0000, 0.0000, 0.0000, 0.0000,\n",
      "          0.0000, 0.0000, 0.0000, 0.0000, 0.0000, 0.0000, 0.0000, 0.0000,\n",
      "          0.0000, 0.0000, 0.0000, 0.0000],\n",
      "         [0.0000, 0.0000, 0.0000, 0.0000, 0.0000, 0.0000, 0.0000, 0.0000,\n",
      "          0.0000, 0.0000, 0.0000, 0.0000, 0.0000, 0.0000, 0.0000, 0.0000,\n",
      "          0.0000, 0.0000, 0.0000, 0.0000, 0.0000, 0.0000, 0.0000, 0.0000,\n",
      "          0.0000, 0.0000, 0.0000, 0.0000],\n",
      "         [0.0000, 0.0000, 0.0000, 0.0000, 0.0000, 0.0000, 0.0000, 0.0000,\n",
      "          0.0000, 0.0000, 0.0000, 0.0000, 0.0000, 0.0000, 0.0000, 0.0000,\n",
      "          0.0000, 0.0000, 0.0000, 0.0000, 0.0000, 0.0000, 0.0000, 0.0000,\n",
      "          0.0000, 0.0000, 0.0000, 0.0000],\n",
      "         [0.0000, 0.0000, 0.0000, 0.0000, 0.0000, 0.0000, 0.0000, 0.0000,\n",
      "          0.0000, 0.0000, 0.0000, 0.0000, 0.0000, 0.0000, 0.0000, 0.0000,\n",
      "          0.0000, 0.0000, 0.0000, 0.0000, 0.0000, 0.0000, 0.0000, 0.0000,\n",
      "          0.0000, 0.0000, 0.0000, 0.0000],\n",
      "         [0.0000, 0.0000, 0.0000, 0.0000, 0.0000, 0.0000, 0.0000, 0.0000,\n",
      "          0.0000, 0.0000, 0.0000, 0.0000, 0.0000, 0.0000, 0.0000, 0.0000,\n",
      "          0.0000, 0.0667, 0.1843, 0.1843, 0.1843, 0.0627, 0.5059, 0.3333,\n",
      "          0.1843, 0.0000, 0.0000, 0.0000],\n",
      "         [0.0000, 0.0000, 0.0000, 0.0000, 0.0000, 0.0000, 0.0000, 0.0000,\n",
      "          0.0000, 0.0000, 0.0000, 0.0000, 0.0000, 0.0000, 0.0000, 0.2941,\n",
      "          0.6000, 0.8510, 0.9922, 0.9922, 0.9922, 0.8431, 0.9647, 0.9922,\n",
      "          0.9922, 0.0000, 0.0000, 0.0000],\n",
      "         [0.0000, 0.0000, 0.0000, 0.0000, 0.0000, 0.0000, 0.0000, 0.0000,\n",
      "          0.0000, 0.0000, 0.0000, 0.0000, 0.1373, 0.5569, 0.9569, 0.9882,\n",
      "          0.9922, 0.9922, 0.9922, 0.9922, 0.9922, 0.9922, 0.9922, 0.9922,\n",
      "          0.9922, 0.0000, 0.0000, 0.0000],\n",
      "         [0.0000, 0.0000, 0.0000, 0.0000, 0.0000, 0.0000, 0.0000, 0.0000,\n",
      "          0.0000, 0.0000, 0.0000, 0.0000, 0.2471, 0.9922, 0.9922, 0.9922,\n",
      "          0.9922, 0.9922, 0.9922, 0.9922, 0.8353, 0.6667, 0.6667, 0.6667,\n",
      "          0.6667, 0.0000, 0.0000, 0.0000],\n",
      "         [0.0000, 0.0000, 0.0000, 0.0000, 0.0000, 0.0000, 0.0000, 0.0000,\n",
      "          0.0784, 0.5176, 0.2824, 0.0000, 0.2235, 0.9333, 0.8902, 0.9333,\n",
      "          0.6588, 0.4863, 0.2706, 0.0784, 0.0431, 0.0000, 0.0000, 0.0000,\n",
      "          0.0000, 0.0000, 0.0000, 0.0000],\n",
      "         [0.0000, 0.0000, 0.0000, 0.0000, 0.0000, 0.0000, 0.0000, 0.0431,\n",
      "          0.8078, 0.9922, 0.3059, 0.0000, 0.0000, 0.1255, 0.0000, 0.1176,\n",
      "          0.0078, 0.0000, 0.0000, 0.0000, 0.0000, 0.0000, 0.0000, 0.0000,\n",
      "          0.0000, 0.0000, 0.0000, 0.0000],\n",
      "         [0.0000, 0.0000, 0.0000, 0.0000, 0.0000, 0.0000, 0.0235, 0.6941,\n",
      "          0.9922, 0.5176, 0.0392, 0.0000, 0.0000, 0.0000, 0.0000, 0.0000,\n",
      "          0.0000, 0.0000, 0.0000, 0.0000, 0.0000, 0.0000, 0.0000, 0.0000,\n",
      "          0.0000, 0.0000, 0.0000, 0.0000],\n",
      "         [0.0000, 0.0000, 0.0000, 0.0000, 0.0000, 0.0471, 0.5216, 0.9922,\n",
      "          0.9137, 0.0588, 0.0000, 0.0000, 0.0000, 0.0000, 0.0000, 0.0000,\n",
      "          0.0000, 0.0000, 0.0000, 0.0000, 0.0000, 0.0000, 0.0000, 0.0000,\n",
      "          0.0000, 0.0000, 0.0000, 0.0000],\n",
      "         [0.0000, 0.0000, 0.0000, 0.0000, 0.0000, 0.3608, 0.9922, 0.8745,\n",
      "          0.1098, 0.0000, 0.0000, 0.0000, 0.0000, 0.0000, 0.0000, 0.0000,\n",
      "          0.0000, 0.0000, 0.0000, 0.0000, 0.0000, 0.0000, 0.0000, 0.0000,\n",
      "          0.0000, 0.0000, 0.0000, 0.0000],\n",
      "         [0.0000, 0.0000, 0.0000, 0.0000, 0.0000, 0.5882, 0.9922, 0.6824,\n",
      "          0.0000, 0.0000, 0.0000, 0.0000, 0.0000, 0.0000, 0.0000, 0.0000,\n",
      "          0.0000, 0.0000, 0.0000, 0.0000, 0.0000, 0.0000, 0.0000, 0.0000,\n",
      "          0.0000, 0.0000, 0.0000, 0.0000],\n",
      "         [0.0000, 0.0000, 0.0000, 0.0000, 0.0000, 0.9176, 0.9922, 0.9647,\n",
      "          0.4980, 0.1922, 0.0000, 0.0000, 0.0000, 0.0000, 0.0000, 0.0000,\n",
      "          0.0000, 0.0000, 0.0000, 0.0000, 0.0000, 0.0000, 0.0000, 0.0000,\n",
      "          0.0000, 0.0000, 0.0000, 0.0000],\n",
      "         [0.0000, 0.0000, 0.0000, 0.0000, 0.0000, 1.0000, 0.9922, 0.9922,\n",
      "          0.9922, 0.9843, 0.5765, 0.3569, 0.4745, 0.3333, 0.1647, 0.1647,\n",
      "          0.3333, 0.1098, 0.0000, 0.0000, 0.0000, 0.0000, 0.0000, 0.0000,\n",
      "          0.0000, 0.0000, 0.0000, 0.0000],\n",
      "         [0.0000, 0.0000, 0.0000, 0.0000, 0.0000, 0.5451, 0.9922, 0.9922,\n",
      "          0.9922, 0.9922, 0.9922, 0.9922, 0.9922, 0.9922, 0.9922, 0.9922,\n",
      "          0.9922, 0.9098, 0.6588, 0.0000, 0.0000, 0.0000, 0.0000, 0.0000,\n",
      "          0.0000, 0.0000, 0.0000, 0.0000],\n",
      "         [0.0000, 0.0000, 0.0000, 0.0000, 0.0000, 0.0118, 0.2078, 0.8549,\n",
      "          0.8706, 0.9843, 0.9922, 0.9922, 0.9922, 0.9922, 0.9922, 0.9922,\n",
      "          0.9922, 0.9922, 0.9882, 0.4863, 0.0000, 0.0000, 0.0000, 0.0000,\n",
      "          0.0000, 0.0000, 0.0000, 0.0000],\n",
      "         [0.0000, 0.0000, 0.0000, 0.0000, 0.0000, 0.0000, 0.0000, 0.0000,\n",
      "          0.0000, 0.2627, 0.2824, 0.7843, 0.9922, 0.9922, 0.9922, 0.9922,\n",
      "          0.9922, 0.9922, 0.9922, 0.6863, 0.0000, 0.0000, 0.0000, 0.0000,\n",
      "          0.0000, 0.0000, 0.0000, 0.0000],\n",
      "         [0.0000, 0.0000, 0.0000, 0.0000, 0.0000, 0.0000, 0.0000, 0.0000,\n",
      "          0.0000, 0.0000, 0.0000, 0.4706, 0.9922, 0.9765, 0.5961, 0.2000,\n",
      "          0.6431, 0.9922, 0.9922, 0.6863, 0.0000, 0.0000, 0.0000, 0.0000,\n",
      "          0.0000, 0.0000, 0.0000, 0.0000],\n",
      "         [0.0000, 0.0000, 0.0000, 0.0000, 0.0000, 0.0000, 0.0000, 0.0000,\n",
      "          0.0000, 0.0000, 0.0000, 0.1961, 0.9922, 0.9922, 0.9922, 0.7373,\n",
      "          0.9882, 0.9922, 0.9922, 0.5804, 0.0000, 0.0000, 0.0000, 0.0000,\n",
      "          0.0000, 0.0000, 0.0000, 0.0000],\n",
      "         [0.0000, 0.0000, 0.0000, 0.0000, 0.0000, 0.0000, 0.0000, 0.0000,\n",
      "          0.0000, 0.0000, 0.0000, 0.0353, 0.6549, 0.9922, 0.9922, 0.9922,\n",
      "          0.9922, 0.9804, 0.6863, 0.0431, 0.0000, 0.0000, 0.0000, 0.0000,\n",
      "          0.0000, 0.0000, 0.0000, 0.0000],\n",
      "         [0.0000, 0.0000, 0.0000, 0.0000, 0.0000, 0.0000, 0.0000, 0.0000,\n",
      "          0.0000, 0.0000, 0.0000, 0.0000, 0.0902, 0.7059, 0.9059, 0.9922,\n",
      "          0.8667, 0.5020, 0.0000, 0.0000, 0.0000, 0.0000, 0.0000, 0.0000,\n",
      "          0.0000, 0.0000, 0.0000, 0.0000],\n",
      "         [0.0000, 0.0000, 0.0000, 0.0000, 0.0000, 0.0000, 0.0000, 0.0000,\n",
      "          0.0000, 0.0000, 0.0000, 0.0000, 0.0000, 0.0000, 0.3647, 0.5843,\n",
      "          0.0863, 0.0000, 0.0000, 0.0000, 0.0000, 0.0000, 0.0000, 0.0000,\n",
      "          0.0000, 0.0000, 0.0000, 0.0000],\n",
      "         [0.0000, 0.0000, 0.0000, 0.0000, 0.0000, 0.0000, 0.0000, 0.0000,\n",
      "          0.0000, 0.0000, 0.0000, 0.0000, 0.0000, 0.0000, 0.0000, 0.0000,\n",
      "          0.0000, 0.0000, 0.0000, 0.0000, 0.0000, 0.0000, 0.0000, 0.0000,\n",
      "          0.0000, 0.0000, 0.0000, 0.0000],\n",
      "         [0.0000, 0.0000, 0.0000, 0.0000, 0.0000, 0.0000, 0.0000, 0.0000,\n",
      "          0.0000, 0.0000, 0.0000, 0.0000, 0.0000, 0.0000, 0.0000, 0.0000,\n",
      "          0.0000, 0.0000, 0.0000, 0.0000, 0.0000, 0.0000, 0.0000, 0.0000,\n",
      "          0.0000, 0.0000, 0.0000, 0.0000],\n",
      "         [0.0000, 0.0000, 0.0000, 0.0000, 0.0000, 0.0000, 0.0000, 0.0000,\n",
      "          0.0000, 0.0000, 0.0000, 0.0000, 0.0000, 0.0000, 0.0000, 0.0000,\n",
      "          0.0000, 0.0000, 0.0000, 0.0000, 0.0000, 0.0000, 0.0000, 0.0000,\n",
      "          0.0000, 0.0000, 0.0000, 0.0000],\n",
      "         [0.0000, 0.0000, 0.0000, 0.0000, 0.0000, 0.0000, 0.0000, 0.0000,\n",
      "          0.0000, 0.0000, 0.0000, 0.0000, 0.0000, 0.0000, 0.0000, 0.0000,\n",
      "          0.0000, 0.0000, 0.0000, 0.0000, 0.0000, 0.0000, 0.0000, 0.0000,\n",
      "          0.0000, 0.0000, 0.0000, 0.0000]]])\n",
      "0~9預測機率 [[0. 0. 0. 0. 0. 0. 1. 0. 0. 0.]]\n",
      "0~9預測機率 6\n"
     ]
    }
   ],
   "source": [
    "import numpy as np\n",
    "\n",
    "i = 8\n",
    "data = test_ds[i][0]\n",
    "print('data:',data)\n",
    "data = data.reshape(1,*data.shape).to(device)\n",
    "prediction = torch.softmax(model(data),dim=1)\n",
    "print('0~9預測機率',np.around(prediction.cpu().detach().numpy()))\n",
    "print('0~9預測機率',np.argmax(prediction.cpu().detach().numpy()))"
   ]
  },
  {
   "cell_type": "code",
   "execution_count": 14,
   "id": "2bc5c7db",
   "metadata": {
    "scrolled": false
   },
   "outputs": [
    {
     "name": "stdout",
     "output_type": "stream",
     "text": [
      "tensor([[0.0943, 0.0046, 0.0224, 0.0028, 0.0942, 0.0698, 0.5325, 0.0014, 0.1459,\n",
      "         0.0319]], device='cuda:0', grad_fn=<SoftmaxBackward0>)\n"
     ]
    },
    {
     "data": {
      "text/plain": [
       "array([[0., 0., 0., 0., 0., 0., 1., 0., 0., 0.]], dtype=float32)"
      ]
     },
     "execution_count": 14,
     "metadata": {},
     "output_type": "execute_result"
    }
   ],
   "source": [
    "print(prediction)\n",
    "np.around(prediction.cpu().detach().numpy())"
   ]
  },
  {
   "cell_type": "markdown",
   "id": "966ba08a",
   "metadata": {},
   "source": [
    "# -- 偶然發現可以更改cmap參數改變輸出風格 --"
   ]
  },
  {
   "cell_type": "code",
   "execution_count": 34,
   "id": "9c060a21",
   "metadata": {
    "scrolled": false
   },
   "outputs": [
    {
     "data": {
      "image/png": "[encoded data removed]",
      "text/plain": [
       "<Figure size 640x480 with 1 Axes>"
      ]
     },
     "metadata": {},
     "output_type": "display_data"
    }
   ],
   "source": [
    "data = test_ds.data[8].clone()\n",
    "data[data>0] = 1\n",
    "data = data.numpy()\n",
    "\n",
    "x2 = data\n",
    "plt.imshow(x2.reshape(28,28),cmap=\"cool\")\n",
    "\n",
    "plt.axis('off')\n",
    "\n",
    "plt.show()"
   ]
  },
  {
   "cell_type": "markdown",
   "id": "1157b58f",
   "metadata": {},
   "source": [
    "# -- reshape圖像大小並模擬MNIST資料 --"
   ]
  },
  {
   "cell_type": "code",
   "execution_count": 39,
   "id": "bc1c7af1",
   "metadata": {
    "scrolled": true
   },
   "outputs": [
    {
     "name": "stdout",
     "output_type": "stream",
     "text": [
      "0 : 0.026661243\n",
      "1 : 0.058686838\n",
      "2 : 0.09239619\n",
      "3 : 0.04982836\n",
      "4 : 0.15389326\n",
      "5 : 0.09407753\n",
      "6 : 0.075238094\n",
      "7 : 0.0335176\n",
      "8 : 0.3594412\n",
      "9 : 0.056259736\n",
      "0~9預測機率 : 8\n"
     ]
    }
   ],
   "source": [
    "from skimage import io \n",
    "from skimage.transform import resize\n",
    "import numpy as np\n",
    "\n",
    "pict = \"C:\\\\Users\\\\User\\\\OneDrive\\\\桌面\\\\test.png\"\n",
    "image = io.imread(pict,as_gray = True)\n",
    "\n",
    "image_resized = resize(image,(28,28),anti_aliasing=True)\n",
    "x = image_resized.reshape(1,28,28)\n",
    "\n",
    "x = torch.FloatTensor(1-x).to(device)\n",
    "\n",
    "prediction = torch.softmax(model(x),dim=1)\n",
    "\n",
    "a=0\n",
    "for i in prediction.cpu().detach().numpy()[0]:\n",
    "    print(a,\":\",i)\n",
    "    a+=1\n",
    "print('0~9預測機率 :',np.argmax(prediction.cpu().detach().numpy()))"
   ]
  },
  {
   "cell_type": "markdown",
   "id": "5e4f67e3",
   "metadata": {},
   "source": [
    "# -- 模擬成功 ! 輸出案例 --"
   ]
  },
  {
   "cell_type": "code",
   "execution_count": 38,
   "id": "c0b8448b",
   "metadata": {
    "scrolled": false
   },
   "outputs": [
    {
     "data": {
      "text/plain": [
       "<matplotlib.image.AxesImage at 0x154053928e0>"
      ]
     },
     "execution_count": 38,
     "metadata": {},
     "output_type": "execute_result"
    },
    {
     "data": {
      "image/png": "[encoded data removed]",
      "text/plain": [
       "<Figure size 640x480 with 1 Axes>"
      ]
     },
     "metadata": {},
     "output_type": "display_data"
    }
   ],
   "source": [
    "x = image_resized.reshape(1,28,28)\n",
    "x = torch.FloatTensor(1-x)\n",
    "plt.imshow(x.reshape(28,28),cmap = 'gray')\n"
   ]
  },
  {
   "cell_type": "markdown",
   "id": "d3c6d2c1",
   "metadata": {},
   "source": [
    "# -- 嘗試另一種資料轉換方法 (失敗) --"
   ]
  },
  {
   "cell_type": "code",
   "execution_count": 724,
   "id": "2310f3cc",
   "metadata": {},
   "outputs": [
    {
     "name": "stdout",
     "output_type": "stream",
     "text": [
      "[255, 255, 255, 255, 255, 255, 255, 255, 255, 255, 255, 255, 255, 255, 255, 255, 255, 255, 255, 255, 255, 255, 255, 255, 255, 255, 255, 255, 255, 255, 255, 255, 255, 255, 255, 255, 255, 255, 255, 255, 240, 248, 255, 255, 255, 255, 255, 255, 255, 255, 255, 255, 255, 255, 255, 255, 255, 255, 255, 255, 255, 255, 255, 255, 255, 255, 255, 252, 128, 147, 254, 255, 255, 255, 255, 255, 255, 255, 255, 255, 255, 255, 255, 255, 255, 255, 255, 255, 255, 255, 255, 255, 255, 255, 255, 220, 143, 149, 195, 255, 255, 255, 255, 255, 255, 255, 255, 255, 255, 255, 255, 255, 255, 255, 255, 255, 255, 255, 255, 255, 255, 255, 255, 177, 182, 228, 140, 255, 255, 255, 255, 255, 255, 255, 255, 255, 255, 255, 255, 255, 255, 255, 255, 255, 255, 255, 255, 255, 255, 255, 250, 137, 239, 251, 135, 231, 255, 255, 255, 255, 255, 255, 255, 255, 255, 255, 255, 255, 255, 255, 255, 255, 255, 255, 255, 255, 255, 255, 221, 141, 255, 255, 182, 179, 255, 255, 255, 255, 255, 255, 255, 255, 255, 255, 255, 255, 255, 255, 255, 255, 255, 255, 255, 255, 255, 255, 179, 183, 255, 255, 225, 141, 254, 255, 255, 255, 255, 255, 255, 255, 255, 255, 255, 255, 255, 255, 255, 255, 255, 255, 255, 255, 255, 255, 153, 214, 255, 255, 252, 137, 231, 255, 255, 255, 255, 255, 255, 255, 255, 255, 255, 255, 255, 255, 255, 255, 255, 255, 255, 255, 255, 253, 139, 234, 255, 255, 255, 156, 207, 255, 255, 255, 255, 255, 255, 255, 255, 255, 255, 255, 255, 255, 255, 255, 255, 255, 255, 255, 255, 239, 137, 253, 255, 255, 255, 201, 161, 255, 255, 255, 255, 255, 255, 255, 255, 255, 255, 255, 255, 255, 255, 255, 255, 255, 255, 255, 255, 191, 162, 255, 255, 255, 255, 238, 136, 254, 255, 255, 255, 255, 255, 255, 255, 255, 255, 255, 255, 255, 255, 255, 255, 255, 255, 255, 255, 148, 216, 255, 255, 255, 255, 251, 136, 235, 255, 255, 255, 255, 255, 255, 255, 255, 255, 255, 255, 255, 255, 255, 255, 255, 255, 255, 232, 126, 229, 248, 255, 255, 255, 255, 153, 210, 255, 255, 255, 255, 255, 255, 255, 255, 255, 255, 255, 255, 255, 255, 255, 255, 255, 255, 171, 117, 139, 138, 157, 181, 208, 255, 181, 185, 255, 255, 255, 255, 255, 255, 255, 255, 255, 255, 255, 255, 255, 255, 255, 255, 255, 255, 142, 223, 254, 239, 200, 181, 154, 138, 123, 188, 255, 255, 255, 255, 255, 255, 255, 255, 255, 255, 255, 255, 255, 255, 255, 255, 255, 245, 135, 246, 255, 255, 255, 255, 255, 228, 162, 173, 255, 255, 255, 255, 255, 255, 255, 255, 255, 255, 255, 255, 255, 255, 255, 255, 255, 238, 139, 255, 255, 255, 255, 255, 255, 255, 233, 136, 254, 255, 255, 255, 255, 255, 255, 255, 255, 255, 255, 255, 255, 255, 255, 255, 255, 220, 146, 255, 255, 255, 255, 255, 255, 255, 255, 135, 206, 255, 255, 255, 255, 255, 255, 255, 255, 255, 255, 255, 255, 255, 255, 255, 255, 201, 160, 255, 255, 255, 255, 255, 255, 255, 255, 216, 134, 252, 255, 255, 255, 255, 255, 255, 255, 255, 255, 255, 255, 255, 255, 255, 255, 154, 203, 255, 255, 255, 255, 255, 255, 255, 255, 255, 158, 190, 255, 255, 255, 255, 255, 255, 255, 255, 255, 255, 255, 255, 255, 255, 254, 135, 238, 255, 255, 255, 255, 255, 255, 255, 255, 255, 235, 131, 242, 255, 255, 255, 255, 255, 255, 255, 255, 255, 255, 255, 255, 255, 223, 137, 252, 255, 255, 255, 255, 255, 255, 255, 255, 255, 255, 174, 171, 255, 255, 255, 255, 255, 255, 255, 255, 255, 255, 255, 255, 255, 233, 199, 255, 255, 255, 255, 255, 255, 255, 255, 255, 255, 255, 241, 166, 254, 255, 255, 255, 255, 255, 255, 255, 255, 255, 255, 255, 255, 255, 255, 255, 255, 255, 255, 255, 255, 255, 255, 255, 255, 255, 255, 255, 255, 255, 255, 255, 255, 255, 255, 255, 255, 255, 255, 255, 255, 255, 255, 255, 255, 255, 255, 255, 255, 255, 255, 255, 255, 255, 255, 255, 255, 255, 255, 255, 255, 255, 255, 255, 255, 255, 255, 255, 255, 255, 255, 255, 255, 255, 255, 255, 255, 255, 255, 255, 255, 255, 255, 255, 255, 255, 255, 255, 255, 255, 255, 255, 255, 255, 255, 255, 255, 255, 255, 255, 255, 240, 251, 255, 255, 255, 255, 255, 255, 255, 255, 255, 255, 255, 255, 255, 255, 255, 255]\n",
      "784\n",
      "<class 'torch.Tensor'>\n",
      "tensor([[[[255, 255, 255, 255, 255, 255, 255, 255, 255, 255, 255, 255, 255, 255,\n",
      "           255, 255, 255, 255, 255, 255, 255, 255, 255, 255, 255, 255, 255, 255,\n",
      "           255, 255, 255, 255, 255, 255, 255, 255, 255, 255, 255, 255, 240, 248,\n",
      "           255, 255, 255, 255, 255, 255, 255, 255, 255, 255, 255, 255, 255, 255,\n",
      "           255, 255, 255, 255, 255, 255, 255, 255, 255, 255, 255, 252, 128, 147,\n",
      "           254, 255, 255, 255, 255, 255, 255, 255, 255, 255, 255, 255, 255, 255,\n",
      "           255, 255, 255, 255, 255, 255, 255, 255, 255, 255, 255, 220, 143, 149,\n",
      "           195, 255, 255, 255, 255, 255, 255, 255, 255, 255, 255, 255, 255, 255,\n",
      "           255, 255, 255, 255, 255, 255, 255, 255, 255, 255, 255, 177, 182, 228,\n",
      "           140, 255, 255, 255, 255, 255, 255, 255, 255, 255, 255, 255, 255, 255,\n",
      "           255, 255, 255, 255, 255, 255, 255, 255, 255, 255, 250, 137, 239, 251,\n",
      "           135, 231, 255, 255, 255, 255, 255, 255, 255, 255, 255, 255, 255, 255,\n",
      "           255, 255, 255, 255, 255, 255, 255, 255, 255, 255, 221, 141, 255, 255,\n",
      "           182, 179, 255, 255, 255, 255, 255, 255, 255, 255, 255, 255, 255, 255,\n",
      "           255, 255, 255, 255, 255, 255, 255, 255, 255, 255, 179, 183, 255, 255,\n",
      "           225, 141, 254, 255, 255, 255, 255, 255, 255, 255, 255, 255, 255, 255,\n",
      "           255, 255, 255, 255, 255, 255, 255, 255, 255, 255, 153, 214, 255, 255,\n",
      "           252, 137, 231, 255, 255, 255, 255, 255, 255, 255, 255, 255, 255, 255,\n",
      "           255, 255, 255, 255, 255, 255, 255, 255, 255, 253, 139, 234, 255, 255,\n",
      "           255, 156, 207, 255, 255, 255, 255, 255, 255, 255, 255, 255, 255, 255,\n",
      "           255, 255, 255, 255, 255, 255, 255, 255, 255, 239, 137, 253, 255, 255,\n",
      "           255, 201, 161, 255, 255, 255, 255, 255, 255, 255, 255, 255, 255, 255,\n",
      "           255, 255, 255, 255, 255, 255, 255, 255, 255, 191, 162, 255, 255, 255,\n",
      "           255, 238, 136, 254, 255, 255, 255, 255, 255, 255, 255, 255, 255, 255,\n",
      "           255, 255, 255, 255, 255, 255, 255, 255, 255, 148, 216, 255, 255, 255,\n",
      "           255, 251, 136, 235, 255, 255, 255, 255, 255, 255, 255, 255, 255, 255,\n",
      "           255, 255, 255, 255, 255, 255, 255, 255, 232, 126, 229, 248, 255, 255,\n",
      "           255, 255, 153, 210, 255, 255, 255, 255, 255, 255, 255, 255, 255, 255,\n",
      "           255, 255, 255, 255, 255, 255, 255, 255, 171, 117, 139, 138, 157, 181,\n",
      "           208, 255, 181, 185, 255, 255, 255, 255, 255, 255, 255, 255, 255, 255,\n",
      "           255, 255, 255, 255, 255, 255, 255, 255, 142, 223, 254, 239, 200, 181,\n",
      "           154, 138, 123, 188, 255, 255, 255, 255, 255, 255, 255, 255, 255, 255,\n",
      "           255, 255, 255, 255, 255, 255, 255, 245, 135, 246, 255, 255, 255, 255,\n",
      "           255, 228, 162, 173, 255, 255, 255, 255, 255, 255, 255, 255, 255, 255,\n",
      "           255, 255, 255, 255, 255, 255, 255, 238, 139, 255, 255, 255, 255, 255,\n",
      "           255, 255, 233, 136, 254, 255, 255, 255, 255, 255, 255, 255, 255, 255,\n",
      "           255, 255, 255, 255, 255, 255, 255, 220, 146, 255, 255, 255, 255, 255,\n",
      "           255, 255, 255, 135, 206, 255, 255, 255, 255, 255, 255, 255, 255, 255,\n",
      "           255, 255, 255, 255, 255, 255, 255, 201, 160, 255, 255, 255, 255, 255,\n",
      "           255, 255, 255, 216, 134, 252, 255, 255, 255, 255, 255, 255, 255, 255,\n",
      "           255, 255, 255, 255, 255, 255, 255, 154, 203, 255, 255, 255, 255, 255,\n",
      "           255, 255, 255, 255, 158, 190, 255, 255, 255, 255, 255, 255, 255, 255,\n",
      "           255, 255, 255, 255, 255, 255, 254, 135, 238, 255, 255, 255, 255, 255,\n",
      "           255, 255, 255, 255, 235, 131, 242, 255, 255, 255, 255, 255, 255, 255,\n",
      "           255, 255, 255, 255, 255, 255, 223, 137, 252, 255, 255, 255, 255, 255,\n",
      "           255, 255, 255, 255, 255, 174, 171, 255, 255, 255, 255, 255, 255, 255,\n",
      "           255, 255, 255, 255, 255, 255, 233, 199, 255, 255, 255, 255, 255, 255,\n",
      "           255, 255, 255, 255, 255, 241, 166, 254, 255, 255, 255, 255, 255, 255,\n",
      "           255, 255, 255, 255, 255, 255, 255, 255, 255, 255, 255, 255, 255, 255,\n",
      "           255, 255, 255, 255, 255, 255, 255, 255, 255, 255, 255, 255, 255, 255,\n",
      "           255, 255, 255, 255, 255, 255, 255, 255, 255, 255, 255, 255, 255, 255,\n",
      "           255, 255, 255, 255, 255, 255, 255, 255, 255, 255, 255, 255, 255, 255,\n",
      "           255, 255, 255, 255, 255, 255, 255, 255, 255, 255, 255, 255, 255, 255,\n",
      "           255, 255, 255, 255, 255, 255, 255, 255, 255, 255, 255, 255, 255, 255,\n",
      "           255, 255, 255, 255, 255, 255, 255, 255, 255, 255, 240, 251, 255, 255,\n",
      "           255, 255, 255, 255, 255, 255, 255, 255, 255, 255, 255, 255, 255, 255]]]],\n",
      "       device='cuda:0')\n"
     ]
    },
    {
     "ename": "RuntimeError",
     "evalue": "expected scalar type Float but found Long",
     "output_type": "error",
     "traceback": [
      "\u001b[1;31m---------------------------------------------------------------------------\u001b[0m",
      "\u001b[1;31mRuntimeError\u001b[0m                              Traceback (most recent call last)",
      "\u001b[1;32m~\\AppData\\Local\\Temp\\ipykernel_7292\\1117435627.py\u001b[0m in \u001b[0;36m<module>\u001b[1;34m\u001b[0m\n\u001b[0;32m     18\u001b[0m \u001b[0mdata\u001b[0m \u001b[1;33m=\u001b[0m \u001b[0mt1\u001b[0m\u001b[1;33m.\u001b[0m\u001b[0mreshape\u001b[0m\u001b[1;33m(\u001b[0m\u001b[1;36m1\u001b[0m\u001b[1;33m,\u001b[0m\u001b[1;33m*\u001b[0m\u001b[0mt1\u001b[0m\u001b[1;33m.\u001b[0m\u001b[0mshape\u001b[0m\u001b[1;33m)\u001b[0m\u001b[1;33m.\u001b[0m\u001b[0mto\u001b[0m\u001b[1;33m(\u001b[0m\u001b[0mdevice\u001b[0m\u001b[1;33m)\u001b[0m\u001b[1;33m\u001b[0m\u001b[1;33m\u001b[0m\u001b[0m\n\u001b[0;32m     19\u001b[0m \u001b[0mprint\u001b[0m\u001b[1;33m(\u001b[0m\u001b[0mdata\u001b[0m\u001b[1;33m)\u001b[0m\u001b[1;33m\u001b[0m\u001b[1;33m\u001b[0m\u001b[0m\n\u001b[1;32m---> 20\u001b[1;33m \u001b[0mprediction\u001b[0m \u001b[1;33m=\u001b[0m \u001b[0mtorch\u001b[0m\u001b[1;33m.\u001b[0m\u001b[0msoftmax\u001b[0m\u001b[1;33m(\u001b[0m\u001b[0mmodel\u001b[0m\u001b[1;33m(\u001b[0m\u001b[0mdata\u001b[0m\u001b[1;33m)\u001b[0m\u001b[1;33m,\u001b[0m\u001b[0mdim\u001b[0m\u001b[1;33m=\u001b[0m\u001b[1;36m1\u001b[0m\u001b[1;33m)\u001b[0m\u001b[1;33m\u001b[0m\u001b[1;33m\u001b[0m\u001b[0m\n\u001b[0m\u001b[0;32m     21\u001b[0m \u001b[0mprint\u001b[0m\u001b[1;33m(\u001b[0m\u001b[1;34m'0~9預測機率'\u001b[0m\u001b[1;33m,\u001b[0m\u001b[0mnp\u001b[0m\u001b[1;33m.\u001b[0m\u001b[0maround\u001b[0m\u001b[1;33m(\u001b[0m\u001b[0mprediction\u001b[0m\u001b[1;33m.\u001b[0m\u001b[0mcpu\u001b[0m\u001b[1;33m(\u001b[0m\u001b[1;33m)\u001b[0m\u001b[1;33m.\u001b[0m\u001b[0mdetach\u001b[0m\u001b[1;33m(\u001b[0m\u001b[1;33m)\u001b[0m\u001b[1;33m.\u001b[0m\u001b[0mnumpy\u001b[0m\u001b[1;33m(\u001b[0m\u001b[1;33m)\u001b[0m\u001b[1;33m)\u001b[0m\u001b[1;33m)\u001b[0m\u001b[1;33m\u001b[0m\u001b[1;33m\u001b[0m\u001b[0m\n\u001b[0;32m     22\u001b[0m \u001b[0mprint\u001b[0m\u001b[1;33m(\u001b[0m\u001b[1;34m'0~9預測機率'\u001b[0m\u001b[1;33m,\u001b[0m\u001b[0mnp\u001b[0m\u001b[1;33m.\u001b[0m\u001b[0margmax\u001b[0m\u001b[1;33m(\u001b[0m\u001b[0mprediction\u001b[0m\u001b[1;33m.\u001b[0m\u001b[0mcpu\u001b[0m\u001b[1;33m(\u001b[0m\u001b[1;33m)\u001b[0m\u001b[1;33m.\u001b[0m\u001b[0mdetach\u001b[0m\u001b[1;33m(\u001b[0m\u001b[1;33m)\u001b[0m\u001b[1;33m.\u001b[0m\u001b[0mnumpy\u001b[0m\u001b[1;33m(\u001b[0m\u001b[1;33m)\u001b[0m\u001b[1;33m)\u001b[0m\u001b[1;33m)\u001b[0m\u001b[1;33m\u001b[0m\u001b[1;33m\u001b[0m\u001b[0m\n",
      "\u001b[1;32m~\\anaconda3\\lib\\site-packages\\torch\\nn\\modules\\module.py\u001b[0m in \u001b[0;36m_call_impl\u001b[1;34m(self, *input, **kwargs)\u001b[0m\n\u001b[0;32m   1128\u001b[0m         if not (self._backward_hooks or self._forward_hooks or self._forward_pre_hooks or _global_backward_hooks\n\u001b[0;32m   1129\u001b[0m                 or _global_forward_hooks or _global_forward_pre_hooks):\n\u001b[1;32m-> 1130\u001b[1;33m             \u001b[1;32mreturn\u001b[0m \u001b[0mforward_call\u001b[0m\u001b[1;33m(\u001b[0m\u001b[1;33m*\u001b[0m\u001b[0minput\u001b[0m\u001b[1;33m,\u001b[0m \u001b[1;33m**\u001b[0m\u001b[0mkwargs\u001b[0m\u001b[1;33m)\u001b[0m\u001b[1;33m\u001b[0m\u001b[1;33m\u001b[0m\u001b[0m\n\u001b[0m\u001b[0;32m   1131\u001b[0m         \u001b[1;31m# Do not call functions when jit is used\u001b[0m\u001b[1;33m\u001b[0m\u001b[1;33m\u001b[0m\u001b[0m\n\u001b[0;32m   1132\u001b[0m         \u001b[0mfull_backward_hooks\u001b[0m\u001b[1;33m,\u001b[0m \u001b[0mnon_full_backward_hooks\u001b[0m \u001b[1;33m=\u001b[0m \u001b[1;33m[\u001b[0m\u001b[1;33m]\u001b[0m\u001b[1;33m,\u001b[0m \u001b[1;33m[\u001b[0m\u001b[1;33m]\u001b[0m\u001b[1;33m\u001b[0m\u001b[1;33m\u001b[0m\u001b[0m\n",
      "\u001b[1;32m~\\anaconda3\\lib\\site-packages\\torch\\nn\\modules\\container.py\u001b[0m in \u001b[0;36mforward\u001b[1;34m(self, input)\u001b[0m\n\u001b[0;32m    137\u001b[0m     \u001b[1;32mdef\u001b[0m \u001b[0mforward\u001b[0m\u001b[1;33m(\u001b[0m\u001b[0mself\u001b[0m\u001b[1;33m,\u001b[0m \u001b[0minput\u001b[0m\u001b[1;33m)\u001b[0m\u001b[1;33m:\u001b[0m\u001b[1;33m\u001b[0m\u001b[1;33m\u001b[0m\u001b[0m\n\u001b[0;32m    138\u001b[0m         \u001b[1;32mfor\u001b[0m \u001b[0mmodule\u001b[0m \u001b[1;32min\u001b[0m \u001b[0mself\u001b[0m\u001b[1;33m:\u001b[0m\u001b[1;33m\u001b[0m\u001b[1;33m\u001b[0m\u001b[0m\n\u001b[1;32m--> 139\u001b[1;33m             \u001b[0minput\u001b[0m \u001b[1;33m=\u001b[0m \u001b[0mmodule\u001b[0m\u001b[1;33m(\u001b[0m\u001b[0minput\u001b[0m\u001b[1;33m)\u001b[0m\u001b[1;33m\u001b[0m\u001b[1;33m\u001b[0m\u001b[0m\n\u001b[0m\u001b[0;32m    140\u001b[0m         \u001b[1;32mreturn\u001b[0m \u001b[0minput\u001b[0m\u001b[1;33m\u001b[0m\u001b[1;33m\u001b[0m\u001b[0m\n\u001b[0;32m    141\u001b[0m \u001b[1;33m\u001b[0m\u001b[0m\n",
      "\u001b[1;32m~\\anaconda3\\lib\\site-packages\\torch\\nn\\modules\\module.py\u001b[0m in \u001b[0;36m_call_impl\u001b[1;34m(self, *input, **kwargs)\u001b[0m\n\u001b[0;32m   1128\u001b[0m         if not (self._backward_hooks or self._forward_hooks or self._forward_pre_hooks or _global_backward_hooks\n\u001b[0;32m   1129\u001b[0m                 or _global_forward_hooks or _global_forward_pre_hooks):\n\u001b[1;32m-> 1130\u001b[1;33m             \u001b[1;32mreturn\u001b[0m \u001b[0mforward_call\u001b[0m\u001b[1;33m(\u001b[0m\u001b[1;33m*\u001b[0m\u001b[0minput\u001b[0m\u001b[1;33m,\u001b[0m \u001b[1;33m**\u001b[0m\u001b[0mkwargs\u001b[0m\u001b[1;33m)\u001b[0m\u001b[1;33m\u001b[0m\u001b[1;33m\u001b[0m\u001b[0m\n\u001b[0m\u001b[0;32m   1131\u001b[0m         \u001b[1;31m# Do not call functions when jit is used\u001b[0m\u001b[1;33m\u001b[0m\u001b[1;33m\u001b[0m\u001b[0m\n\u001b[0;32m   1132\u001b[0m         \u001b[0mfull_backward_hooks\u001b[0m\u001b[1;33m,\u001b[0m \u001b[0mnon_full_backward_hooks\u001b[0m \u001b[1;33m=\u001b[0m \u001b[1;33m[\u001b[0m\u001b[1;33m]\u001b[0m\u001b[1;33m,\u001b[0m \u001b[1;33m[\u001b[0m\u001b[1;33m]\u001b[0m\u001b[1;33m\u001b[0m\u001b[1;33m\u001b[0m\u001b[0m\n",
      "\u001b[1;32m~\\anaconda3\\lib\\site-packages\\torch\\nn\\modules\\linear.py\u001b[0m in \u001b[0;36mforward\u001b[1;34m(self, input)\u001b[0m\n\u001b[0;32m    112\u001b[0m \u001b[1;33m\u001b[0m\u001b[0m\n\u001b[0;32m    113\u001b[0m     \u001b[1;32mdef\u001b[0m \u001b[0mforward\u001b[0m\u001b[1;33m(\u001b[0m\u001b[0mself\u001b[0m\u001b[1;33m,\u001b[0m \u001b[0minput\u001b[0m\u001b[1;33m:\u001b[0m \u001b[0mTensor\u001b[0m\u001b[1;33m)\u001b[0m \u001b[1;33m->\u001b[0m \u001b[0mTensor\u001b[0m\u001b[1;33m:\u001b[0m\u001b[1;33m\u001b[0m\u001b[1;33m\u001b[0m\u001b[0m\n\u001b[1;32m--> 114\u001b[1;33m         \u001b[1;32mreturn\u001b[0m \u001b[0mF\u001b[0m\u001b[1;33m.\u001b[0m\u001b[0mlinear\u001b[0m\u001b[1;33m(\u001b[0m\u001b[0minput\u001b[0m\u001b[1;33m,\u001b[0m \u001b[0mself\u001b[0m\u001b[1;33m.\u001b[0m\u001b[0mweight\u001b[0m\u001b[1;33m,\u001b[0m \u001b[0mself\u001b[0m\u001b[1;33m.\u001b[0m\u001b[0mbias\u001b[0m\u001b[1;33m)\u001b[0m\u001b[1;33m\u001b[0m\u001b[1;33m\u001b[0m\u001b[0m\n\u001b[0m\u001b[0;32m    115\u001b[0m \u001b[1;33m\u001b[0m\u001b[0m\n\u001b[0;32m    116\u001b[0m     \u001b[1;32mdef\u001b[0m \u001b[0mextra_repr\u001b[0m\u001b[1;33m(\u001b[0m\u001b[0mself\u001b[0m\u001b[1;33m)\u001b[0m \u001b[1;33m->\u001b[0m \u001b[0mstr\u001b[0m\u001b[1;33m:\u001b[0m\u001b[1;33m\u001b[0m\u001b[1;33m\u001b[0m\u001b[0m\n",
      "\u001b[1;31mRuntimeError\u001b[0m: expected scalar type Float but found Long"
     ]
    }
   ],
   "source": [
    "import numpy as np\n",
    "import torch \n",
    "\n",
    "from PIL import Image\n",
    "\n",
    "# 打開圖片並將其轉換為灰階模式\n",
    "image = Image.open('C:\\\\Users\\\\User\\\\OneDrive\\\\桌面\\\\0~9\\\\0.png').convert('L')\n",
    "image = image.resize((28,28))\n",
    "l = list(image.getdata())\n",
    "print(l)\n",
    "print(len(l))\n",
    "\n",
    "l = [[l]]\n",
    "\n",
    "t1 = torch.tensor(l)\n",
    "print(type(t1))\n",
    "\n",
    "data = t1.reshape(1,*t1.shape).to(device)\n",
    "print(data)\n",
    "prediction = torch.softmax(model(data),dim=1)\n",
    "print('0~9預測機率',np.around(prediction.cpu().detach().numpy()))\n",
    "print('0~9預測機率',np.argmax(prediction.cpu().detach().numpy()))"
   ]
  }
 ],
 "metadata": {
  "kernelspec": {
   "display_name": "Python 3 (ipykernel)",
   "language": "python",
   "name": "python3"
  },
  "language_info": {
   "codemirror_mode": {
    "name": "ipython",
    "version": 3
   },
   "file_extension": ".py",
   "mimetype": "text/x-python",
   "name": "python",
   "nbconvert_exporter": "python",
   "pygments_lexer": "ipython3",
   "version": "3.9.13"
  }
 },
 "nbformat": 4,
 "nbformat_minor": 5
}
